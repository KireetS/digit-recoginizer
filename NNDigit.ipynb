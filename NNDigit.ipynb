{
 "cells": [
  {
   "cell_type": "code",
   "execution_count": 1,
   "id": "e1366193-41f1-41af-adde-3b51c61d94e3",
   "metadata": {},
   "outputs": [],
   "source": [
    "import numpy as np \n",
    "import pandas as pd\n",
    "df = pd.read_csv('train.csv')\n",
    "df = np.array(df)\n",
    "np.random.shuffle(df)\n",
    "train , test = np.split(df , [int(0.6*len(df))])\n",
    "train = train.T\n",
    "test = test.T"
   ]
  },
  {
   "cell_type": "code",
   "execution_count": 2,
   "id": "3033bcfc-164f-4450-a393-66e5b6f6b58c",
   "metadata": {},
   "outputs": [
    {
     "data": {
      "text/plain": [
       "array([[8, 0, 0, ..., 0, 0, 0],\n",
       "       [2, 0, 0, ..., 0, 0, 0],\n",
       "       [0, 0, 0, ..., 0, 0, 0],\n",
       "       ...,\n",
       "       [5, 0, 0, ..., 0, 0, 0],\n",
       "       [2, 0, 0, ..., 0, 0, 0],\n",
       "       [9, 0, 0, ..., 0, 0, 0]], dtype=int64)"
      ]
     },
     "execution_count": 2,
     "metadata": {},
     "output_type": "execute_result"
    }
   ],
   "source": [
    "df\n"
   ]
  },
  {
   "cell_type": "code",
   "execution_count": 3,
   "id": "7bcb3ba7-0e92-4c36-a1d7-64bae2436323",
   "metadata": {},
   "outputs": [],
   "source": [
    "y_train = train[0]\n",
    "x_train = train[1:]\n",
    "y_test = test[0]\n",
    "x_test = test[1:]\n",
    "x_normalised = x_train/255.0"
   ]
  },
  {
   "cell_type": "code",
   "execution_count": 4,
   "id": "65d4bb19-3b76-483d-a387-4aae9b82c53e",
   "metadata": {},
   "outputs": [],
   "source": [
    "def init(X):\n",
    "    n , m = X.shape\n",
    "    W1 = np.random.randn(16,784)\n",
    "    W2 =  np.random.randn(10,16)\n",
    "    b1 = np.random.randn(16 , m)\n",
    "    b2 = np.random.randn(10,m)\n",
    "    return W1 ,W2 , b1 , b2\n",
    "def ReLu(Z):\n",
    "    A = np.maximum(0, Z)\n",
    "    return A\n",
    "def sigmoid(Z):\n",
    "    Z_max = np.maximum(0, Z) \n",
    "    A = Z_max + np.log(1 + np.exp(-np.abs(Z)))\n",
    "    return np.exp(-np.abs(Z)) / (np.exp(-np.abs(Z)) + 1)\n",
    "def softmax(Z):\n",
    "    Z_max = np.max(Z, axis=0)\n",
    "    Z_stable = Z - Z_max\n",
    "    exp_Z = np.exp(Z_stable)\n",
    "    return exp_Z / np.sum(exp_Z, axis=0)\n",
    "\n",
    "def onehot(Y):\n",
    "    num_classes = len(np.unique(Y))\n",
    "    onehotY = np.eye(num_classes)[Y]\n",
    "    return onehotY.T\n",
    "def fprop(W1 , W2 , b1 , b2, X):\n",
    "    Z1 = W1.dot(X) + b1\n",
    "    A1 = ReLu(Z1)\n",
    "    Z2 = W2.dot(A1) + b2\n",
    "    A2 = softmax(Z2)\n",
    "    return Z1 , A1 ,Z2 , A2\n",
    "def backprop(X, Y, Z1, A1, Z2, A2, W1, W2, b1, b2, learning_rate):\n",
    "    m = X.shape[1]\n",
    "    \n",
    "    dZ2 = A2 - Y\n",
    "    dW2 = (1/m) * dZ2.dot(A1.T)\n",
    "    db2 = (1/m) * np.sum(dZ2, axis=1, keepdims=True)\n",
    "    \n",
    "    dZ1 = W2.T.dot(dZ2) * (A1 > 0)\n",
    "    dW1 = (1/m) * dZ1.dot(X.T)\n",
    "    db1 = (1/m) * np.sum(dZ1, axis=1, keepdims=True)\n",
    "    \n",
    "    W1 -= learning_rate * dW1\n",
    "    b1 -= learning_rate * db1\n",
    "    W2 -= learning_rate * dW2\n",
    "    b2 -= learning_rate * db2\n",
    "    return W1, b1, W2, b2\n",
    "\n",
    "def get_predictions(A2):\n",
    "    return np.argmax(A2, 0)\n",
    "\n",
    "def get_accuracy(predictions, Y):\n",
    "    print(predictions, Y)\n",
    "    return np.sum(predictions == Y) / Y.size\n",
    "def modeltrain(X , Y , iterations , lr):\n",
    "    W1 , W2 , b1 , b2 = init(X)\n",
    "    for i in range(iterations):\n",
    "        Z1 , A1 , Z2 , A2 = fprop(W1 , W2 , b1 , b2 , X)\n",
    "        onehotY = onehot(Y)\n",
    "        W1 , b1 ,W2 ,b2 = backprop(X , onehotY , Z1 , A1 , Z2 , A2 , W1 , W2 ,b1 , b2,lr)\n",
    "        if i % 50 == 0:\n",
    "            print(\"Iteration: \", i)\n",
    "            predictions = get_predictions(A2)\n",
    "            print(get_accuracy(predictions, Y))\n",
    "    return W1 , W2   , b1,b2\n",
    "    "
   ]
  },
  {
   "cell_type": "code",
   "execution_count": 5,
   "id": "0ae3602b-ce68-4a70-b012-0349fc0b33cf",
   "metadata": {},
   "outputs": [
    {
     "name": "stdout",
     "output_type": "stream",
     "text": [
      "Iteration:  0\n",
      "[7 1 1 ... 1 7 7] [8 2 0 ... 4 1 1]\n",
      "0.14853174603174604\n",
      "Iteration:  50\n",
      "[6 9 0 ... 1 6 0] [8 2 0 ... 4 1 1]\n",
      "0.24658730158730158\n",
      "Iteration:  100\n",
      "[6 3 0 ... 4 6 5] [8 2 0 ... 4 1 1]\n",
      "0.3890873015873016\n",
      "Iteration:  150\n",
      "[6 2 2 ... 4 1 5] [8 2 0 ... 4 1 1]\n",
      "0.47615079365079366\n",
      "Iteration:  200\n",
      "[6 2 8 ... 4 1 8] [8 2 0 ... 4 1 1]\n",
      "0.5280952380952381\n",
      "Iteration:  250\n",
      "[6 2 8 ... 4 1 1] [8 2 0 ... 4 1 1]\n",
      "0.5755555555555556\n",
      "Iteration:  300\n",
      "[8 2 8 ... 4 1 1] [8 2 0 ... 4 1 1]\n",
      "0.609484126984127\n",
      "Iteration:  350\n",
      "[8 2 8 ... 4 1 1] [8 2 0 ... 4 1 1]\n",
      "0.6475\n",
      "Iteration:  400\n",
      "[5 2 8 ... 4 1 1] [8 2 0 ... 4 1 1]\n",
      "0.6715476190476191\n",
      "Iteration:  450\n",
      "[8 2 8 ... 4 1 1] [8 2 0 ... 4 1 1]\n",
      "0.6994444444444444\n",
      "Iteration:  500\n",
      "[8 2 8 ... 4 1 1] [8 2 0 ... 4 1 1]\n",
      "0.7261904761904762\n",
      "Iteration:  550\n",
      "[8 2 8 ... 4 1 1] [8 2 0 ... 4 1 1]\n",
      "0.7501984126984127\n",
      "Iteration:  600\n",
      "[8 2 8 ... 4 1 1] [8 2 0 ... 4 1 1]\n",
      "0.7737301587301587\n",
      "Iteration:  650\n",
      "[8 2 8 ... 4 1 1] [8 2 0 ... 4 1 1]\n",
      "0.7446428571428572\n",
      "Iteration:  700\n",
      "[8 2 8 ... 4 1 1] [8 2 0 ... 4 1 1]\n",
      "0.7844047619047619\n",
      "Iteration:  750\n",
      "[8 2 8 ... 4 1 1] [8 2 0 ... 4 1 1]\n",
      "0.7928174603174604\n",
      "Iteration:  800\n",
      "[8 2 8 ... 4 1 1] [8 2 0 ... 4 1 1]\n",
      "0.8134126984126984\n",
      "Iteration:  850\n",
      "[8 2 8 ... 4 1 1] [8 2 0 ... 4 1 1]\n",
      "0.8251190476190476\n",
      "Iteration:  900\n",
      "[8 2 8 ... 4 1 1] [8 2 0 ... 4 1 1]\n",
      "0.8373809523809523\n",
      "Iteration:  950\n",
      "[8 2 8 ... 4 1 1] [8 2 0 ... 4 1 1]\n",
      "0.837936507936508\n",
      "Iteration:  1000\n",
      "[8 2 8 ... 4 1 1] [8 2 0 ... 4 1 1]\n",
      "0.8473015873015873\n",
      "Iteration:  1050\n",
      "[8 2 8 ... 4 1 1] [8 2 0 ... 4 1 1]\n",
      "0.8487698412698412\n",
      "Iteration:  1100\n",
      "[8 2 8 ... 4 1 1] [8 2 0 ... 4 1 1]\n",
      "0.8351587301587302\n",
      "Iteration:  1150\n",
      "[8 2 8 ... 4 1 1] [8 2 0 ... 4 1 1]\n",
      "0.8323412698412699\n",
      "Iteration:  1200\n",
      "[8 2 8 ... 4 1 1] [8 2 0 ... 4 1 1]\n",
      "0.8371031746031746\n",
      "Iteration:  1250\n",
      "[8 2 8 ... 4 1 1] [8 2 0 ... 4 1 1]\n",
      "0.846031746031746\n",
      "Iteration:  1300\n",
      "[8 2 8 ... 4 1 1] [8 2 0 ... 4 1 1]\n",
      "0.8518650793650794\n",
      "Iteration:  1350\n",
      "[8 2 8 ... 4 1 1] [8 2 0 ... 4 1 1]\n",
      "0.8557936507936508\n",
      "Iteration:  1400\n",
      "[8 2 8 ... 4 1 1] [8 2 0 ... 4 1 1]\n",
      "0.8684126984126984\n",
      "Iteration:  1450\n",
      "[8 2 8 ... 4 1 1] [8 2 0 ... 4 1 1]\n",
      "0.8718650793650794\n",
      "Iteration:  1500\n",
      "[8 2 8 ... 4 1 1] [8 2 0 ... 4 1 1]\n",
      "0.840952380952381\n",
      "Iteration:  1550\n",
      "[8 2 8 ... 4 1 1] [8 2 0 ... 4 1 1]\n",
      "0.8640079365079365\n",
      "Iteration:  1600\n",
      "[8 2 8 ... 4 1 1] [8 2 0 ... 4 1 1]\n",
      "0.8743650793650793\n",
      "Iteration:  1650\n",
      "[8 2 8 ... 4 1 1] [8 2 0 ... 4 1 1]\n",
      "0.8781349206349206\n",
      "Iteration:  1700\n",
      "[8 2 8 ... 4 1 1] [8 2 0 ... 4 1 1]\n",
      "0.8361507936507937\n",
      "Iteration:  1750\n",
      "[8 2 8 ... 4 1 1] [8 2 0 ... 4 1 1]\n",
      "0.8800793650793651\n",
      "Iteration:  1800\n",
      "[8 2 8 ... 4 1 1] [8 2 0 ... 4 1 1]\n",
      "0.87\n",
      "Iteration:  1850\n",
      "[8 2 8 ... 4 1 1] [8 2 0 ... 4 1 1]\n",
      "0.8675793650793651\n",
      "Iteration:  1900\n",
      "[8 2 8 ... 4 1 1] [8 2 0 ... 4 1 1]\n",
      "0.8733730158730159\n",
      "Iteration:  1950\n",
      "[8 2 8 ... 4 1 1] [8 2 0 ... 4 1 1]\n",
      "0.8857142857142857\n"
     ]
    }
   ],
   "source": [
    "W1 , W2  , b1 , b2 = modeltrain(x_normalised , y_train , 2000 , 0.8)"
   ]
  },
  {
   "cell_type": "code",
   "execution_count": 6,
   "id": "a55a8b80-37b8-4b19-a765-e468441a0184",
   "metadata": {},
   "outputs": [],
   "source": [
    "from matplotlib import pyplot as plt"
   ]
  },
  {
   "cell_type": "code",
   "execution_count": 16,
   "id": "581dd6ef-0366-4386-9917-8bb4b47b2e94",
   "metadata": {},
   "outputs": [],
   "source": [
    "def make_predictions(X, W1, b1, W2, b2):\n",
    "    _, _, _, A2 = fprop(W1, W2, b1, b2, X)\n",
    "    predictions = get_predictions(A2)\n",
    "    return predictions\n",
    "\n",
    "def test_prediction(index, W1, b1, W2, b2):\n",
    "    current_image = x_train[:, index, None]\n",
    "    prediction = make_predictions(x_normalised[:, index, None], W1, b1, W2, b2)\n",
    "    label = y_train[index]\n",
    "    print(\"Prediction: \", prediction)\n",
    "    print(\"Label: \", label)\n",
    "    \n",
    "    current_image = current_image.reshape((28, 28)) * 255\n",
    "    plt.gray()\n",
    "    plt.imshow(current_image, interpolation='nearest')\n",
    "    plt.show()"
   ]
  },
  {
   "cell_type": "code",
   "execution_count": 17,
   "id": "693f0939-e679-4c20-9305-535b88909d0d",
   "metadata": {},
   "outputs": [
    {
     "name": "stdout",
     "output_type": "stream",
     "text": [
      "Prediction:  [1 1 1 ... 1 1 1]\n",
      "Label:  1\n"
     ]
    },
    {
     "data": {
      "image/png": "[encoded data removed]",
      "text/plain": [
       "<Figure size 640x480 with 1 Axes>"
      ]
     },
     "metadata": {},
     "output_type": "display_data"
    }
   ],
   "source": [
    "x_tnormal = x_test/255.0\n",
    "test_prediction(941 , W1 , b1 , W2 , b2)"
   ]
  },
  {
   "cell_type": "code",
   "execution_count": 18,
   "id": "f53ef3d3-9d88-4eae-b076-0e312c7bc576",
   "metadata": {},
   "outputs": [
    {
     "data": {
      "text/plain": [
       "array([8, 2, 8, ..., 4, 1, 1], dtype=int64)"
      ]
     },
     "execution_count": 18,
     "metadata": {},
     "output_type": "execute_result"
    }
   ],
   "source": [
    "make_predictions(x_normalised, W1, b1, W2, b2)"
   ]
  },
  {
   "cell_type": "code",
   "execution_count": null,
   "id": "f5bfa4ac-5af0-4622-8de4-973258d555bf",
   "metadata": {},
   "outputs": [],
   "source": []
  }
 ],
 "metadata": {
  "kernelspec": {
   "display_name": "Python 3 (ipykernel)",
   "language": "python",
   "name": "python3"
  },
  "language_info": {
   "codemirror_mode": {
    "name": "ipython",
    "version": 3
   },
   "file_extension": ".py",
   "mimetype": "text/x-python",
   "name": "python",
   "nbconvert_exporter": "python",
   "pygments_lexer": "ipython3",
   "version": "3.11.5"
  }
 },
 "nbformat": 4,
 "nbformat_minor": 5
}
